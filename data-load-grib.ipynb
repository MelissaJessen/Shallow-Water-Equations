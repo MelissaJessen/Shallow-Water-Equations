{
 "cells": [
  {
   "cell_type": "markdown",
   "metadata": {},
   "source": [
    "# Get data from Copernicus Climate Data Store"
   ]
  },
  {
   "cell_type": "code",
   "execution_count": 159,
   "metadata": {},
   "outputs": [],
   "source": [
    "#pip install netcdf4\n",
    "#pip install netCDF4"
   ]
  },
  {
   "cell_type": "code",
   "execution_count": 169,
   "metadata": {},
   "outputs": [],
   "source": [
    "import cdsapi\n",
    "import netCDF4\n",
    "import xarray as xr\n",
    "from netCDF4 import Dataset\n",
    "import numpy as np\n",
    "import matplotlib.pyplot as plt"
   ]
  },
  {
   "cell_type": "code",
   "execution_count": null,
   "metadata": {},
   "outputs": [
    {
     "name": "stderr",
     "output_type": "stream",
     "text": [
      "2024-11-18 15:07:14,954 INFO [2024-09-28T00:00:00] **Welcome to the New Climate Data Store (CDS)!** This new system is in its early days of full operations and still undergoing enhancements and fine tuning. Some disruptions are to be expected. Your \n",
      "[feedback](https://jira.ecmwf.int/plugins/servlet/desk/portal/1/create/202) is key to improve the user experience on the new CDS for the benefit of everyone. Thank you.\n",
      "2024-11-18 15:07:14,957 INFO [2024-09-26T00:00:00] Watch our [Forum](https://forum.ecmwf.int/) for Announcements, news and other discussed topics.\n",
      "2024-11-18 15:07:14,962 INFO [2024-09-16T00:00:00] Remember that you need to have an ECMWF account to use the new CDS. **Your old CDS credentials will not work in new CDS!**\n",
      "2024-11-18 15:07:14,964 WARNING [2024-06-16T00:00:00] CDS API syntax is changed and some keys or parameter names may have also changed. To avoid requests failing, please use the \"Show API request code\" tool on the dataset Download Form to check you are using the correct syntax for your API request.\n",
      "2024-11-18 15:07:15,603 WARNING [2024-10-10T00:00:00] The final validated ERA5 differs from ERA5T from July 2024 until further notice - please refer to our\n",
      "[Forum announcement](https://forum.ecmwf.int/t/final-validated-era5-product-to-differ-from-era5t-in-july-2024/6685)\n",
      "for details and watch it for further updates on this.\n",
      "2024-11-18 15:07:15,603 INFO Request ID is 079f5c8b-0562-40cc-8e47-a738d49d7343\n",
      "2024-11-18 15:07:15,684 INFO status has been updated to accepted\n",
      "2024-11-18 15:07:24,594 INFO status has been updated to successful\n"
     ]
    },
    {
     "data": {
      "application/vnd.jupyter.widget-view+json": {
       "model_id": "83856fb7bb3c4e9b8269698cfca0706d",
       "version_major": 2,
       "version_minor": 0
      },
      "text/plain": [
       "c3ae23dd527d9a8eeef73749e464332a.nc:   0%|          | 0.00/1.52M [00:00<?, ?B/s]"
      ]
     },
     "metadata": {},
     "output_type": "display_data"
    }
   ],
   "source": [
    "if 0:  \n",
    "  c = cdsapi.Client()\n",
    "\n",
    "  dataset = 'reanalysis-era5-pressure-levels'\n",
    "\n",
    "  request = {\n",
    "        'product_type': ['reanalysis'],\n",
    "        'variable': ['geopotential'],\n",
    "        'year': ['2024'],\n",
    "        'month': ['03'],\n",
    "        'day': ['01'],\n",
    "        'time': ['13:00'],\n",
    "        'pressure_level': ['1000'],\n",
    "        'data_format': 'netcdf',\n",
    "    }\n",
    "  target = 'download.nc'\n",
    "\n",
    "  c.retrieve(dataset, request, target)"
   ]
  },
  {
   "cell_type": "code",
   "execution_count": null,
   "metadata": {},
   "outputs": [],
   "source": [
    "# Open the NetCDF file\n",
    "dataset = Dataset('download.nc')"
   ]
  },
  {
   "cell_type": "code",
   "execution_count": 156,
   "metadata": {},
   "outputs": [
    {
     "name": "stdout",
     "output_type": "stream",
     "text": [
      "<class 'netCDF4.Dataset'>\n",
      "root group (NETCDF4 data model, file format HDF5):\n",
      "    GRIB_centre: ecmf\n",
      "    GRIB_centreDescription: European Centre for Medium-Range Weather Forecasts\n",
      "    GRIB_subCentre: 0\n",
      "    Conventions: CF-1.7\n",
      "    institution: European Centre for Medium-Range Weather Forecasts\n",
      "    history: 2024-11-07T03:28 GRIB to CDM+CF via cfgrib-0.9.14.1/ecCodes-2.36.0 with {\"source\": \"data.grib\", \"filter_by_keys\": {\"stream\": [\"oper\"]}, \"encode_cf\": [\"parameter\", \"time\", \"geography\", \"vertical\"]}\n",
      "    dimensions(sizes): valid_time(1), pressure_level(1), latitude(721), longitude(1440)\n",
      "    variables(dimensions): int64 number(), int64 valid_time(valid_time), float64 pressure_level(pressure_level), float64 latitude(latitude), float64 longitude(longitude), <class 'str'> expver(), float32 z(valid_time, pressure_level, latitude, longitude)\n",
      "    groups: \n"
     ]
    }
   ],
   "source": [
    "print(dataset)"
   ]
  },
  {
   "cell_type": "code",
   "execution_count": 162,
   "metadata": {},
   "outputs": [
    {
     "name": "stdout",
     "output_type": "stream",
     "text": [
      "dict_keys(['number', 'valid_time', 'pressure_level', 'latitude', 'longitude', 'expver', 'z'])\n"
     ]
    }
   ],
   "source": [
    "print(dataset.variables.keys())"
   ]
  },
  {
   "cell_type": "code",
   "execution_count": 203,
   "metadata": {},
   "outputs": [],
   "source": [
    "lats = dataset.variables['latitude'][:]\n",
    "lons = dataset.variables['longitude'][:]\n",
    "time = dataset.variables['valid_time'][:]\n",
    "z = dataset.variables['z'][:]"
   ]
  },
  {
   "cell_type": "code",
   "execution_count": 209,
   "metadata": {},
   "outputs": [
    {
     "name": "stdout",
     "output_type": "stream",
     "text": [
      "The smallest latitude is -90.0 and the largest latitude is 90.0\n",
      "Then length of the latitude array is 721\n",
      "The smallest longitude is 0.0 and the largest longitude is 359.75\n",
      "Then length of the longitude array is 1440\n",
      "The smallest z is -4286.60546875 and the largest z is 3106.39453125\n",
      "The shape of the z array is (1, 1, 721, 1440)\n"
     ]
    }
   ],
   "source": [
    "print(f'The smallest latitude is {lats.min()} and the largest latitude is {lats.max()}')\n",
    "print(f'Then length of the latitude array is {len(lats)}')\n",
    "\n",
    "print(f'The smallest longitude is {lons.min()} and the largest longitude is {lons.max()}')\n",
    "print(f'Then length of the longitude array is {len(lons)}')\n",
    "\n",
    "print(f'The smallest z is {z.min()} and the largest z is {z.max()}')\n",
    "print(f'The shape of the z array is {z.shape}')"
   ]
  },
  {
   "cell_type": "code",
   "execution_count": 202,
   "metadata": {},
   "outputs": [
    {
     "name": "stdout",
     "output_type": "stream",
     "text": [
      "(1, 1, 721, 1440)\n"
     ]
    },
    {
     "data": {
      "text/plain": [
       "'0001'"
      ]
     },
     "execution_count": 202,
     "metadata": {},
     "output_type": "execute_result"
    }
   ],
   "source": [
    "z = dataset.variables['z'][:]\n",
    "print(z.shape)\n",
    "number = dataset.variables['number'][:]\n",
    "p = dataset.variables['pressure_level'][:]\n",
    "p.shape\n",
    "expver = dataset.variables['expver'][:]\n",
    "expver\n"
   ]
  },
  {
   "cell_type": "code",
   "execution_count": 216,
   "metadata": {},
   "outputs": [
    {
     "data": {
      "image/png": "[encoded data removed]",
      "text/plain": [
       "<Figure size 640x480 with 2 Axes>"
      ]
     },
     "metadata": {},
     "output_type": "display_data"
    }
   ],
   "source": [
    "# Plot\n",
    "lon, lat = np.meshgrid(lons, lats)\n",
    "\n",
    "plt.contourf(lon, lat, z[0,0,:,:])\n",
    "plt.title('Geopotential height at 1000 hPa')\n",
    "plt.colorbar()\n",
    "plt.show()"
   ]
  },
  {
   "cell_type": "markdown",
   "metadata": {},
   "source": [
    "# Load climate data from grib file"
   ]
  },
  {
   "cell_type": "code",
   "execution_count": 118,
   "metadata": {},
   "outputs": [],
   "source": [
    "import xarray as xr\n",
    "import numpy as np\n"
   ]
  },
  {
   "cell_type": "code",
   "execution_count": null,
   "metadata": {},
   "outputs": [
    {
     "name": "stdout",
     "output_type": "stream",
     "text": [
      "Requirement already satisfied: eccodes in c:\\users\\matteo\\appdata\\local\\programs\\python\\python312\\lib\\site-packages (1.2.0)\n",
      "Requirement already satisfied: attrs in c:\\users\\matteo\\appdata\\local\\programs\\python\\python312\\lib\\site-packages (from eccodes) (24.2.0)\n",
      "Requirement already satisfied: cffi in c:\\users\\matteo\\appdata\\local\\programs\\python\\python312\\lib\\site-packages (from eccodes) (1.17.1)\n",
      "Requirement already satisfied: numpy in c:\\users\\matteo\\appdata\\local\\programs\\python\\python312\\lib\\site-packages (from eccodes) (2.1.3)\n",
      "Requirement already satisfied: pycparser in c:\\users\\matteo\\appdata\\local\\programs\\python\\python312\\lib\\site-packages (from cffi->eccodes) (2.22)\n",
      "Note: you may need to restart the kernel to use updated packages.\n"
     ]
    }
   ],
   "source": [
    "#pip install eccodes --no-binary eccodes\n"
   ]
  },
  {
   "cell_type": "code",
   "execution_count": null,
   "metadata": {},
   "outputs": [
    {
     "name": "stdout",
     "output_type": "stream",
     "text": [
      "Name: eccodes\n",
      "Version: 1.2.0\n",
      "Summary: Python interface to the ecCodes GRIB and BUFR decoder/encoder\n",
      "Home-page: https://github.com/ecmwf/eccodes-python\n",
      "Author: European Centre for Medium-Range Weather Forecasts (ECMWF)\n",
      "Author-email: software.support@ecmwf.int\n",
      "License: Apache License Version 2.0\n",
      "Location: c:\\Users\\Matteo\\AppData\\Local\\Programs\\Python\\Python312\\Lib\\site-packages\n",
      "Requires: attrs, cffi, numpy\n",
      "Required-by: cfgrib\n",
      "Note: you may need to restart the kernel to use updated packages.\n"
     ]
    }
   ],
   "source": [
    "#pip show eccodes"
   ]
  },
  {
   "cell_type": "code",
   "execution_count": 138,
   "metadata": {},
   "outputs": [],
   "source": [
    "#import cfgrib\n"
   ]
  },
  {
   "cell_type": "code",
   "execution_count": null,
   "metadata": {},
   "outputs": [
    {
     "ename": "NameError",
     "evalue": "name 'cfgrib' is not defined",
     "output_type": "error",
     "traceback": [
      "\u001b[1;31m---------------------------------------------------------------------------\u001b[0m",
      "\u001b[1;31mNameError\u001b[0m                                 Traceback (most recent call last)",
      "Cell \u001b[1;32mIn[139], line 1\u001b[0m\n\u001b[1;32m----> 1\u001b[0m data \u001b[38;5;241m=\u001b[39m \u001b[43mcfgrib\u001b[49m\u001b[38;5;241m.\u001b[39mopen_datasets(\u001b[38;5;124m'\u001b[39m\u001b[38;5;124mdownload.grib\u001b[39m\u001b[38;5;124m'\u001b[39m)\n",
      "\u001b[1;31mNameError\u001b[0m: name 'cfgrib' is not defined"
     ]
    }
   ],
   "source": [
    "#data = cfgrib.open_datasets('download.grib')"
   ]
  }
 ],
 "metadata": {
  "kernelspec": {
   "display_name": "Python 3",
   "language": "python",
   "name": "python3"
  },
  "language_info": {
   "codemirror_mode": {
    "name": "ipython",
    "version": 3
   },
   "file_extension": ".py",
   "mimetype": "text/x-python",
   "name": "python",
   "nbconvert_exporter": "python",
   "pygments_lexer": "ipython3",
   "version": "3.12.6"
  }
 },
 "nbformat": 4,
 "nbformat_minor": 2
}
