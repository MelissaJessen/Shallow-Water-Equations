{
 "cells": [
  {
   "cell_type": "code",
   "execution_count": null,
   "metadata": {},
   "outputs": [],
   "source": [
    "import numpy as np\n",
    "import h5py\n",
    "import matplotlib.pyplot as plt\n",
    "import torch\n",
    "\n",
    "from scipy.io import loadmat"
   ]
  },
  {
   "cell_type": "markdown",
   "metadata": {},
   "source": [
    "## Load data from h5 file"
   ]
  },
  {
   "cell_type": "code",
   "execution_count": null,
   "metadata": {},
   "outputs": [],
   "source": [
    "# Load data\n",
    "with h5py.File(r'C:\\Users\\Matteo\\Shallow-Water-Equations\\data\\swe1d_2500.h5', 'r') as file:\n",
    "    # Check if the dataset exists\n",
    "    data = {key: file[key][:] for key in file.keys()}\n",
    "\n",
    "keys = [key for key in data.keys()]\n",
    "\n",
    "a = np.array([data[key][0] for key in keys])\n",
    "u = np.array([data[key][1] for key in keys])\n",
    "\n",
    "mesh = np.linspace(0, 25, u.shape[-1])\n",
    "mesh_shape_corrected = np.repeat(mesh[np.newaxis, np.newaxis, :], u.shape[0], axis=0)\n",
    "a_with_mesh = np.concatenate((a, mesh_shape_corrected), axis=1)\n",
    "\n",
    "n_train = 2000\n",
    "\n",
    "train_x, test_x = torch.tensor(a_with_mesh[:n_train], dtype=torch.float32), torch.tensor(a_with_mesh[n_train:], dtype=torch.float32)\n",
    "train_y, test_y = torch.tensor(u[:n_train], dtype=torch.float32), torch.tensor(u[n_train:], dtype=torch.float32)\n",
    "\n",
    "# Print shapes\n",
    "print(f\"train_x: {train_x.shape}\")\n",
    "print(f\"train_y: {train_y.shape}\")\n",
    "\n",
    "print(f\"test_x: {test_x.shape}\")\n",
    "print(f\"test_y: {test_y.shape}\")\n",
    "\n",
    "h = train_y[0,0,:]\n",
    "\n",
    "# Plot data\n",
    "plt.figure(figsize=(12, 6))\n",
    "plt.plot(mesh, h)\n",
    "plt.xlabel(\"x\")\n",
    "plt.show()"
   ]
  }
 ],
 "metadata": {
  "kernelspec": {
   "display_name": "Python 3",
   "language": "python",
   "name": "python3"
  },
  "language_info": {
   "name": "python",
   "version": "3.12.6"
  }
 },
 "nbformat": 4,
 "nbformat_minor": 2
}
